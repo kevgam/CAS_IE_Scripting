{
  "nbformat": 4,
  "nbformat_minor": 0,
  "metadata": {
    "colab": {
      "provenance": [],
      "authorship_tag": "ABX9TyO2v3+I9REO1Yp4Yr1yfO71"
    },
    "kernelspec": {
      "name": "python3",
      "display_name": "Python 3"
    },
    "language_info": {
      "name": "python"
    }
  },
  "cells": [
    {
      "cell_type": "markdown",
      "source": [
        "#Scripting Report Gruppe 5"
      ],
      "metadata": {
        "id": "n5dgEzlKXCDm"
      }
    },
    {
      "cell_type": "code",
      "source": [],
      "metadata": {
        "id": "qRLoP-tJXF4R"
      },
      "execution_count": null,
      "outputs": []
    }
  ]
}