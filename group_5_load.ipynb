{
  "cells": [
    {
      "cell_type": "markdown",
      "id": "31278fe5-8fb5-47be-b9ee-97993f7137c3",
      "metadata": {
        "id": "31278fe5-8fb5-47be-b9ee-97993f7137c3"
      },
      "source": [
        "# Laden der Daten\n",
        "In diesem Notebook werden die Daten eingelesen, welche direkt über die URL zugängig sind. Die Geodaten für das Weg- und Velonetz <br>\n",
        "in Zürich müssen manuell auf der Open Data Seite runtergeladen und dann über einen CSV-Import geladen werden, nachdem die Datei Entzipped wurde.<br>\n",
        "Grund hierfür ist die Auswahl des Ausschnitts, in welchem das Velonetz angezeigt werden soll. <br>\n",
        "Dieser muss auf der Seite ausgewählt werden und es wird dann ein Downlaodlink für 5 Minuten zur Verfügung gestellt.\n"
      ]
    },
    {
      "cell_type": "markdown",
      "id": "6f23c677-36b0-4001-9dd5-9580954385cd",
      "metadata": {
        "id": "6f23c677-36b0-4001-9dd5-9580954385cd"
      },
      "source": [
        "## Verwendete Links/Quellen"
      ]
    },
    {
      "cell_type": "code",
      "execution_count": 1,
      "id": "fc4b7a0f-21c0-494c-a080-f4e081714ca9",
      "metadata": {
        "id": "fc4b7a0f-21c0-494c-a080-f4e081714ca9"
      },
      "outputs": [],
      "source": [
        "urls = []\n",
        "urls.append(\"https://www.hev-schweiz.ch/vermieten/nebenkostenabrechnungen/sonnenscheindauer\")\n",
        "urls.append(\"https://www.hev-schweiz.ch/vermieten/statistiken/mietpreise/durchschnittliche-mietpreise\")\n",
        "\n",
        "url3 = \"https://opendata.swiss/de/dataset/median-strompreis-per-kanton\""
      ]
    },
    {
      "cell_type": "markdown",
      "id": "df2efa93-8436-4cc8-8047-bce81319aa79",
      "metadata": {
        "id": "df2efa93-8436-4cc8-8047-bce81319aa79"
      },
      "source": [
        "# Installation notwendiger Bibliotheken"
      ]
    },
    {
      "cell_type": "code",
      "execution_count": 2,
      "id": "5b5ab592-f89b-4619-816a-2caffd54cabb",
      "metadata": {
        "id": "5b5ab592-f89b-4619-816a-2caffd54cabb",
        "outputId": "1b17f81e-53ac-49eb-b25b-26ce1fc2c27f",
        "colab": {
          "base_uri": "https://localhost:8080/"
        }
      },
      "outputs": [
        {
          "output_type": "stream",
          "name": "stdout",
          "text": [
            "Requirement already satisfied: pip in /usr/local/lib/python3.10/dist-packages (24.1.2)\n",
            "Collecting pip\n",
            "  Downloading pip-24.3.1-py3-none-any.whl.metadata (3.7 kB)\n",
            "Downloading pip-24.3.1-py3-none-any.whl (1.8 MB)\n",
            "\u001b[2K   \u001b[90m━━━━━━━━━━━━━━━━━━━━━━━━━━━━━━━━━━━━━━━━\u001b[0m \u001b[32m1.8/1.8 MB\u001b[0m \u001b[31m15.8 MB/s\u001b[0m eta \u001b[36m0:00:00\u001b[0m\n",
            "\u001b[?25hInstalling collected packages: pip\n",
            "  Attempting uninstall: pip\n",
            "    Found existing installation: pip 24.1.2\n",
            "    Uninstalling pip-24.1.2:\n",
            "      Successfully uninstalled pip-24.1.2\n",
            "Successfully installed pip-24.3.1\n",
            "Requirement already satisfied: beautifulsoup4 in /usr/local/lib/python3.10/dist-packages (4.12.3)\n",
            "Requirement already satisfied: soupsieve>1.2 in /usr/local/lib/python3.10/dist-packages (from beautifulsoup4) (2.6)\n",
            "Requirement already satisfied: openpyxl in /usr/local/lib/python3.10/dist-packages (3.1.5)\n",
            "Requirement already satisfied: et-xmlfile in /usr/local/lib/python3.10/dist-packages (from openpyxl) (2.0.0)\n"
          ]
        }
      ],
      "source": [
        "!pip install --upgrade pip\n",
        "!pip install beautifulsoup4\n",
        "!pip install openpyxl"
      ]
    },
    {
      "cell_type": "markdown",
      "id": "f327534e-f27a-4724-bb39-e31377b0ad4b",
      "metadata": {
        "id": "f327534e-f27a-4724-bb39-e31377b0ad4b"
      },
      "source": [
        "# Module importieren"
      ]
    },
    {
      "cell_type": "code",
      "execution_count": 3,
      "id": "3a34264d-bf63-4eea-8871-0080e2265cc5",
      "metadata": {
        "id": "3a34264d-bf63-4eea-8871-0080e2265cc5"
      },
      "outputs": [],
      "source": [
        "from bs4 import BeautifulSoup as Soup\n",
        "import urllib.request\n",
        "import openpyxl\n",
        "import pandas as pd\n",
        "from pathlib import Path\n",
        "from google.colab import drive # Library to access shared folder \"ie_scripting_datasets\" on google drive\n",
        "import os"
      ]
    },
    {
      "cell_type": "markdown",
      "source": [
        "# Definition Colab Speicherort und Access"
      ],
      "metadata": {
        "id": "fRqZXPxiWJvv"
      },
      "id": "fRqZXPxiWJvv"
    },
    {
      "cell_type": "code",
      "source": [
        "drive.mount('/content/drive') #will give access to \"ie_scripting_datasets\" on google drive in folder selection"
      ],
      "metadata": {
        "colab": {
          "base_uri": "https://localhost:8080/"
        },
        "id": "igiuOWlTWh_O",
        "outputId": "3dfd21bb-3a2c-4336-cfcc-8e0e8f9639db"
      },
      "id": "igiuOWlTWh_O",
      "execution_count": 4,
      "outputs": [
        {
          "output_type": "stream",
          "name": "stdout",
          "text": [
            "Mounted at /content/drive\n"
          ]
        }
      ]
    },
    {
      "cell_type": "markdown",
      "id": "2583dd9c-a4f0-476d-b096-dcb60aa58806",
      "metadata": {
        "id": "2583dd9c-a4f0-476d-b096-dcb60aa58806"
      },
      "source": [
        "# Funktionen"
      ]
    },
    {
      "cell_type": "markdown",
      "source": [
        "Funktion für das extrahieren von Tabellendaten"
      ],
      "metadata": {
        "id": "zElPRMUl2nlB"
      },
      "id": "zElPRMUl2nlB"
    },
    {
      "cell_type": "code",
      "execution_count": 5,
      "id": "b0f7bea1-1b96-4eb3-8385-52c9f821d7c2",
      "metadata": {
        "id": "b0f7bea1-1b96-4eb3-8385-52c9f821d7c2"
      },
      "outputs": [],
      "source": [
        "def tableDataText(table):\n",
        "    def rowgetDataText(tr, coltag='td'):\n",
        "        return [td.get_text(strip=True) for td in tr.find_all(coltag)]\n",
        "    rows = []\n",
        "    trs = table.find_all('tr')\n",
        "    headerow = rowgetDataText(trs[0], 'th')\n",
        "    if headerow:\n",
        "        rows.append(headerow)\n",
        "        trs = trs[1:]\n",
        "    for tr in trs:\n",
        "        rows.append(rowgetDataText(tr, 'td') )\n",
        "    return rows"
      ]
    },
    {
      "cell_type": "markdown",
      "source": [
        "Herunterladen der Tabellen aus dem Web und umwanldung in ein Pandas DataFrame"
      ],
      "metadata": {
        "id": "SqBybVX12txb"
      },
      "id": "SqBybVX12txb"
    },
    {
      "cell_type": "code",
      "source": [
        "html = urllib.request.urlopen(urls[0]).read()\n",
        "soup = Soup(html, parser='lxml')\n",
        "htmltables = soup.find_all('table', { 'class' : 'contenttable acc_content ce-table' })\n",
        "\n",
        "all_dataframes = []\n",
        "for table in htmltables:\n",
        "  table = tableDataText(table)\n",
        "  df = pd.DataFrame(table)\n",
        "  all_dataframes.append(df)"
      ],
      "metadata": {
        "id": "LLVfIYw62brw"
      },
      "id": "LLVfIYw62brw",
      "execution_count": 6,
      "outputs": []
    },
    {
      "cell_type": "markdown",
      "source": [
        "Erstellen der Excel-Datei und speichern der Tabellen in einzelne Register"
      ],
      "metadata": {
        "id": "69NvEYRg4C_a"
      },
      "id": "69NvEYRg4C_a"
    },
    {
      "cell_type": "code",
      "source": [
        "filepath = Path('/content/drive/My Drive/ie_scripting_datasets/Sonnenscheindauer.xlsx')\n",
        "filepath.parent.mkdir(parents=True, exist_ok=True)\n",
        "\n",
        "year = 2024\n",
        "with pd.ExcelWriter(filepath) as writer:\n",
        "  for dataframe in all_dataframes:\n",
        "    dataframe.to_excel(writer, sheet_name=str(year), index=False, header=False)\n",
        "    year = year - 1"
      ],
      "metadata": {
        "id": "CA7LCQrvp1Jv"
      },
      "id": "CA7LCQrvp1Jv",
      "execution_count": 7,
      "outputs": []
    },
    {
      "cell_type": "code",
      "source": [],
      "metadata": {
        "id": "jxlgB-VUN5kM"
      },
      "id": "jxlgB-VUN5kM",
      "execution_count": 7,
      "outputs": []
    }
  ],
  "metadata": {
    "kernelspec": {
      "display_name": "Python 3 (ipykernel)",
      "language": "python",
      "name": "python3"
    },
    "language_info": {
      "codemirror_mode": {
        "name": "ipython",
        "version": 3
      },
      "file_extension": ".py",
      "mimetype": "text/x-python",
      "name": "python",
      "nbconvert_exporter": "python",
      "pygments_lexer": "ipython3",
      "version": "3.11.6"
    },
    "colab": {
      "provenance": []
    }
  },
  "nbformat": 4,
  "nbformat_minor": 5
}