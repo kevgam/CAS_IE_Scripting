{
  "cells": [
    {
      "cell_type": "markdown",
      "id": "31278fe5-8fb5-47be-b9ee-97993f7137c3",
      "metadata": {
        "id": "31278fe5-8fb5-47be-b9ee-97993f7137c3"
      },
      "source": [
        "# Laden der Daten\n",
        "In diesem Notebook werden die Daten eingelesen, welche direkt über die URL zugängig sind. Die Geodaten für das Weg- und Velonetz <br>\n",
        "in Zürich müssen manuell auf der Open Data Seite runtergeladen und dann über einen CSV-Import geladen werden, nachdem die Datei Entzipped wurde.<br>\n",
        "Grund hierfür ist die Auswahl des Ausschnitts, in welchem das Velonetz angezeigt werden soll. <br>\n",
        "Dieser muss auf der Seite ausgewählt werden und es wird dann ein Downlaodlink für 5 Minuten zur Verfügung gestellt.\n"
      ]
    },
    {
      "cell_type": "markdown",
      "id": "6f23c677-36b0-4001-9dd5-9580954385cd",
      "metadata": {
        "id": "6f23c677-36b0-4001-9dd5-9580954385cd"
      },
      "source": [
        "## Verwendete Links/Quellen"
      ]
    },
    {
      "cell_type": "code",
      "execution_count": 20,
      "id": "fc4b7a0f-21c0-494c-a080-f4e081714ca9",
      "metadata": {
        "id": "fc4b7a0f-21c0-494c-a080-f4e081714ca9"
      },
      "outputs": [],
      "source": [
        "url1 = \"https://www.hev-schweiz.ch/vermieten/nebenkostenabrechnungen/sonnenscheindauer\"\n",
        "url2 = \"https://www.hev-schweiz.ch/vermieten/statistiken/mietpreise/durchschnittliche-mietpreise\"\n",
        "url3 = \"https://opendata.swiss/de/dataset/median-strompreis-per-kanton\""
      ]
    },
    {
      "cell_type": "markdown",
      "id": "df2efa93-8436-4cc8-8047-bce81319aa79",
      "metadata": {
        "id": "df2efa93-8436-4cc8-8047-bce81319aa79"
      },
      "source": [
        "# Installation notwendiger Bibliotheken"
      ]
    },
    {
      "cell_type": "code",
      "execution_count": 21,
      "id": "5b5ab592-f89b-4619-816a-2caffd54cabb",
      "metadata": {
        "id": "5b5ab592-f89b-4619-816a-2caffd54cabb",
        "outputId": "a398bf47-1dc3-4d6f-de0f-c4b7b0e3b163",
        "colab": {
          "base_uri": "https://localhost:8080/"
        }
      },
      "outputs": [
        {
          "output_type": "stream",
          "name": "stdout",
          "text": [
            "Requirement already satisfied: pip in /usr/local/lib/python3.10/dist-packages (24.3.1)\n",
            "Requirement already satisfied: beautifulsoup4 in /usr/local/lib/python3.10/dist-packages (4.12.3)\n",
            "Requirement already satisfied: soupsieve>1.2 in /usr/local/lib/python3.10/dist-packages (from beautifulsoup4) (2.6)\n"
          ]
        }
      ],
      "source": [
        "!pip install --upgrade pip\n",
        "!pip install beautifulsoup4"
      ]
    },
    {
      "cell_type": "markdown",
      "id": "f327534e-f27a-4724-bb39-e31377b0ad4b",
      "metadata": {
        "id": "f327534e-f27a-4724-bb39-e31377b0ad4b"
      },
      "source": [
        "# Module importieren"
      ]
    },
    {
      "cell_type": "code",
      "execution_count": 22,
      "id": "3a34264d-bf63-4eea-8871-0080e2265cc5",
      "metadata": {
        "id": "3a34264d-bf63-4eea-8871-0080e2265cc5"
      },
      "outputs": [],
      "source": [
        "from bs4 import BeautifulSoup as Soup\n",
        "import urllib.request"
      ]
    },
    {
      "cell_type": "markdown",
      "id": "2583dd9c-a4f0-476d-b096-dcb60aa58806",
      "metadata": {
        "id": "2583dd9c-a4f0-476d-b096-dcb60aa58806"
      },
      "source": [
        "# Funktionen"
      ]
    },
    {
      "cell_type": "code",
      "execution_count": 23,
      "id": "b0f7bea1-1b96-4eb3-8385-52c9f821d7c2",
      "metadata": {
        "id": "b0f7bea1-1b96-4eb3-8385-52c9f821d7c2"
      },
      "outputs": [],
      "source": [
        "def tableDataText(table):\n",
        "    def rowgetDataText(tr, coltag='td'):\n",
        "        return [td.get_text(strip=True) for td in tr.find_all(coltag)]\n",
        "    rows = []\n",
        "    trs = table.find_all('tr')\n",
        "    headerow = rowgetDataText(trs[0], 'th')\n",
        "    if headerow:\n",
        "        rows.append(headerow)\n",
        "        trs = trs[1:]\n",
        "    for tr in trs:\n",
        "        rows.append(rowgetDataText(tr, 'td') )\n",
        "    return rows"
      ]
    },
    {
      "cell_type": "code",
      "source": [
        "html = urllib.request.urlopen(url1).read()\n",
        "soup = Soup(html, parser='lxml')\n",
        "htmltable = soup.find('table', { 'class' : 'contenttable acc_content ce-table' })\n",
        "\n",
        "list_table = tableDataText(htmltable)\n",
        "\n",
        "print(list_table)"
      ],
      "metadata": {
        "id": "CA7LCQrvp1Jv",
        "outputId": "b25e2a6c-e612-4720-de65-7236e079867e",
        "colab": {
          "base_uri": "https://localhost:8080/"
        }
      },
      "id": "CA7LCQrvp1Jv",
      "execution_count": 24,
      "outputs": [
        {
          "output_type": "stream",
          "name": "stdout",
          "text": [
            "[['Station', 'Jan', 'Feb', 'Mär', 'Apr', 'Mai', 'Jun', 'Jul', 'Aug', 'Sep', 'Okt', 'Nov', 'Dez', 'Total', ''], ['Adelboden', '75', '97', '84', '112', '99', '116', '185', '213', '106', '', '', '', '', ''], ['Aigle', '73', '102', '111', '125', '118', '150', '244', '256', '129', '', '', '', '', ''], ['Altdorf', '46', '73', '95', '115', '103', '123', '173', '190', '120', '', '', '', '', ''], ['Basel-Binningen', '63', '56', '110', '121', '153', '153', '225', '285', '128', '', '', '', '', ''], ['Bern / Zollikofen', '61', '90', '108', '143', '151', '160', '239', '273', '131', '', '', '', '', ''], ['Buchs-Aarau', '53', '73', '90', '126', '138', '146', '213', '264', '112', '', '', '', '', ''], ['La Chaux-de-Fonds', '91', '78', '112', '120', '122', '141', '225', '267', '126', '', '', '', '', ''], ['Chur', '93', '79', '104', '135', '132', '131', '216', '238', '119', '', '', '', '', ''], ['Cimetta', '165', '128', '146', '193', '98', '145', '258', '299', '126', '', '', '', '', ''], ['Davos', '111', '96', '121', '144', '113', '129', '198', '216', '130', '', '', '', '', ''], ['Disentis / Sedrun', '85', '63', '79', '122', '97', '123', '189', '233', '99', '', '', '', '', ''], ['La Dôle', '90', '90', '98', '122', '103', '121', '210', '251', '121', '', '', '', '', ''], ['Engelberg', '50', '90', '93', '119', '102', '128', '168', '191', '113', '', '', '', '', ''], ['Fahy', '62', '52', '101', '113', '132', '156', '229', '290', '134', '', '', '', '', ''], ['Col du Gd-St-Bernard', '54', '82', '91', '118', '101', '125', '236', '251', '90', '', '', '', '', ''], ['Genève-Cointrin', '58', '94', '110', '144', '156', '193', '284', '306', '147', '', '', '', '', ''], ['Glarus', '52', '58', '68', '109', '103', '125', '173', '202', '91', '', '', '', '', ''], ['Gütsch ob Andermatt', '128', '80', '87', '116', '92', '129', '213', '263', '107', '', '', '', '', ''], ['Güttingen', '46', '76', '118', '137', '159', '167', '220', '262', '138', '', '', '', '', ''], ['Interlaken', '65', '84', '95', '123', '120', '156', '225', '242', '109', '', '', '', '', ''], ['Jungfraujoch Sphinx', '104', '94', '81', '105', '109', '127', '214', '231', '107', '', '', '', '', ''], ['Locarno / Monti', '140', '118', '151', '197', '120', '174', '282', '300', '141', '', '', '', '', ''], ['Lugano', '138', '111', '141', '192', '135', '177', '277', '287', '140', '', '', '', '', ''], ['Luzern', '55', '76', '111', '145', '126', '143', '205', '245', '112', '', '', '', '', ''], ['Le Moléson', '95', '113', '105', '120', '111', '133', '208', '234', '132', '', '', '', '', ''], ['Montana', '105', '124', '121', '141', '142', '164', '260', '273', '145', '', '', '', '', ''], ['Napf', '102', '95', '110', '133', '104', '121', '177', '229', '100', '', '', '', '', ''], ['Neuchâtel', '70', '87', '99', '148', '156', '174', '261', '290', '129', '', '', '', '', ''], ['Payerne', '67', '99', '104', '154', '163', '180', '247', '288', '133', '', '', '', '', ''], ['Pilatus', '115', '102', '118', '126', '84', '96', '157', '218', '129', '', '', '', '', ''], ['Pully', '59', '87', '123', '144', '174', '174', '250', '285', '137', '', '', '', '', ''], ['Poschiavo / Robbia', '96', '86', '90', '132', '97', '122', '186', '174', '75', '', '', '', '', ''], ['Rünenberg', '83', '61', '102', '123', '134', '144', '218', '274', '121', '', '', '', '', ''], ['Samedan-Flugplatz', '122', '90', '93', '138', '107', '141', '224', '204', '110', '', '', '', '', ''], ['San Bernardino', '105', '81', '93', '129', '73', '95', '157', '193', '66', '', '', '', '', ''], ['Säntis', '132', '99', '129', '127', '128', '114', '173', '237', '147', '', '', '', '', ''], ['Schaffhausen', '49', '68', '94', '124', '137', '162', '219', '241', '127', '', '', '', '', ''], ['Scuol', '94', '72', '103', '154', '115', '146', '218', '223', '122', '', '', '', '', ''], ['Sion', '68', '119', '140', '181', '175', '200', '293', '307', '154', '', '', '', '', ''], ['St. Gallen', '70', '73', '111', '154', '159', '154', '206', '255', '135', '', '', '', '', ''], ['Stabio', '140', '105', '127', '176', '127', '170', '263', '289', '130', '', '', '', '', ''], ['Aadorf / Tänikon', '53', '71', '102', '137', '146', '151', '217', '255', '120', '', '', '', '', ''], ['Vaduz', '71', '75', '98', '122', '133', '128', '198', '228', '122', '', '', '', '', ''], ['Visp', '12', '104', '126', '168', '174', '186', '284', '293', '151', '', '', '', '', ''], ['Wädenswil', '61', '69', '115', '130', '138', '163', '210', '263', '120', '', '', '', '', ''], ['Weissfluhjoch', '143', '104', '127', '142', '124', '139', '194', '219', '132', '', '', '', '', ''], ['Wynau', '52', '68', '90', '125', '144', '151', '221', '261', '119', '', '', '', '', ''], ['Zermatt', '86', '86', '93', '125', '122', '142', '211', '210', '110', '', '', '', '', ''], ['Zürich / Kloten', '53', '72', '107', '125', '143', '153', '224', '272', '126', '', '', '', '', ''], ['Zürich / Fluntern', '68', '78', '123', '144', '148', '146', '227', '274', '136', '', '', '', '', '']]\n"
          ]
        }
      ]
    }
  ],
  "metadata": {
    "kernelspec": {
      "display_name": "Python 3 (ipykernel)",
      "language": "python",
      "name": "python3"
    },
    "language_info": {
      "codemirror_mode": {
        "name": "ipython",
        "version": 3
      },
      "file_extension": ".py",
      "mimetype": "text/x-python",
      "name": "python",
      "nbconvert_exporter": "python",
      "pygments_lexer": "ipython3",
      "version": "3.11.6"
    },
    "colab": {
      "provenance": []
    }
  },
  "nbformat": 4,
  "nbformat_minor": 5
}