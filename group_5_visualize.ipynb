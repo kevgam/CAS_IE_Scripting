{
 "cells": [
  {
   "cell_type": "markdown",
   "id": "31278fe5-8fb5-47be-b9ee-97993f7137c3",
   "metadata": {},
   "source": [
    "# Laden der Daten\n",
    "In diesem Notebook werden die Daten eingelesen, welche direkt über die URL zugängig sind. Die Geodaten für das Weg- und Velonetz <br> \n",
    "in Zürich müssen manuell auf der Open Data Seite runtergeladen und dann über einen CSV-Import geladen werden, nachdem die Datei Entzipped wurde.<br>\n",
    "Grund hierfür ist die Auswahl des Ausschnitts, in welchem das Velonetz angezeigt werden soll. <br>\n",
    "Dieser muss auf der Seite ausgewählt werden und es wird dann ein Downlaodlink für 5 Minuten zur Verfügung gestellt.\n"
   ]
  },
  {
   "cell_type": "markdown",
   "id": "6f23c677-36b0-4001-9dd5-9580954385cd",
   "metadata": {},
   "source": [
    "## Verwendete Links/Quellen"
   ]
  },
  {
   "cell_type": "code",
   "execution_count": null,
   "id": "fc4b7a0f-21c0-494c-a080-f4e081714ca9",
   "metadata": {},
   "outputs": [],
   "source": [
    "url_x=\n",
    "url_y="
   ]
  },
  {
   "cell_type": "markdown",
   "id": "df2efa93-8436-4cc8-8047-bce81319aa79",
   "metadata": {},
   "source": [
    "# Installation notwendiger Bibliotheken"
   ]
  },
  {
   "cell_type": "code",
   "execution_count": null,
   "id": "5b5ab592-f89b-4619-816a-2caffd54cabb",
   "metadata": {},
   "outputs": [],
   "source": [
    "!pip install --upgrade pip\n",
    "!pip install folium\n",
    "!pip install matplotlib\n",
    "!pip install geopandas\n",
    "!pip install geopy"
   ]
  },
  {
   "cell_type": "markdown",
   "id": "f327534e-f27a-4724-bb39-e31377b0ad4b",
   "metadata": {},
   "source": [
    "# Module importieren"
   ]
  },
  {
   "cell_type": "code",
   "execution_count": null,
   "id": "3a34264d-bf63-4eea-8871-0080e2265cc5",
   "metadata": {},
   "outputs": [],
   "source": []
  },
  {
   "cell_type": "markdown",
   "id": "2583dd9c-a4f0-476d-b096-dcb60aa58806",
   "metadata": {},
   "source": [
    "# Funktionen"
   ]
  },
  {
   "cell_type": "code",
   "execution_count": null,
   "id": "b0f7bea1-1b96-4eb3-8385-52c9f821d7c2",
   "metadata": {},
   "outputs": [],
   "source": []
  }
 ],
 "metadata": {
  "kernelspec": {
   "display_name": "Python 3 (ipykernel)",
   "language": "python",
   "name": "python3"
  },
  "language_info": {
   "codemirror_mode": {
    "name": "ipython",
    "version": 3
   },
   "file_extension": ".py",
   "mimetype": "text/x-python",
   "name": "python",
   "nbconvert_exporter": "python",
   "pygments_lexer": "ipython3",
   "version": "3.11.6"
  }
 },
 "nbformat": 4,
 "nbformat_minor": 5
}
