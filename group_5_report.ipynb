{
  "nbformat": 4,
  "nbformat_minor": 0,
  "metadata": {
    "colab": {
      "provenance": []
    },
    "kernelspec": {
      "name": "python3",
      "display_name": "Python 3"
    },
    "language_info": {
      "name": "python"
    }
  },
  "cells": [
    {
      "cell_type": "markdown",
      "source": [
        "# Scripting Gruppe 5\n",
        "# Hat die Sonnenscheindauer pro Kanton einen Einfluss auf die Strom- und Mietpreise?​"
      ],
      "metadata": {
        "id": "n5dgEzlKXCDm"
      }
    },
    {
      "cell_type": "markdown",
      "source": [
        "## Team\n",
        "---\n",
        "- Kevin Gamuzza\n",
        "- Fabrice Würsten\n",
        "- Alice Allenspach\n",
        "\n",
        "\n",
        "\n",
        "\n",
        "## Background\n",
        "---\n",
        "Die Sonnenscheindauer variiert in der Schweiz zwischen den Kantonen/Gemeinden und könnte die Strom- und Mietpreise beeinflussen. Höhere Sonnenscheindauer könnte zu niedrigeren Strompreisen durch verstärkte Solarenergieproduktion führen. Gleichzeitig könnte eine höhere Nachfrage nach Wohnraum in sonnigen Regionen die Mietpreise steigen lassen.\n",
        "\n",
        "\n",
        "\n",
        "## Business Case\n",
        "---\n",
        "Untersucht wird, ob ein Einfluss der Sonnenscheindauer auf die Strom- und Mietpreise besteht. Ziel ist es, herauszufinden, ob Kantone/Gemeinden mit attraktiven Miet- und Strompreisen auch eine hohe Sonnenscheindauer aufweisen.\n",
        "\n",
        "\n",
        "\n",
        "## Datasets\n",
        "---\n",
        "- https://www.hev-schweiz.ch/vermieten/nebenkostenabrechnungen/sonnenscheindauer\n",
        "- https://opendata.swiss/de/dataset/median-strompreis-per-kanton\n",
        "- https://www.hev-schweiz.ch/vermieten/statistiken/mietpreise/durchschnittliche-mietpreise\n"
      ],
      "metadata": {
        "id": "nCx-R2IXCPki"
      }
    }
  ]
}